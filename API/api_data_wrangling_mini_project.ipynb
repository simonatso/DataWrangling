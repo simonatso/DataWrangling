{
 "cells": [
  {
   "cell_type": "markdown",
   "metadata": {},
   "source": [
    "This exercise will require you to pull some data from the Qunadl API. Qaundl is currently the most widely used aggregator of financial market data."
   ]
  },
  {
   "cell_type": "markdown",
   "metadata": {},
   "source": [
    "As a first step, you will need to register a free account on the http://www.quandl.com website."
   ]
  },
  {
   "cell_type": "markdown",
   "metadata": {},
   "source": [
    "After you register, you will be provided with a unique API key, that you should store:"
   ]
  },
  {
   "cell_type": "code",
   "execution_count": 128,
   "metadata": {},
   "outputs": [],
   "source": [
    "# Store the API key as a string - according to PEP8, constants are always named in all upper case\n",
    "API_KEY = ''"
   ]
  },
  {
   "cell_type": "markdown",
   "metadata": {},
   "source": [
    "Qaundl has a large number of data sources, but, unfortunately, most of them require a Premium subscription. Still, there are also a good number of free datasets."
   ]
  },
  {
   "cell_type": "markdown",
   "metadata": {},
   "source": [
    "For this mini project, we will focus on equities data from the Frankfurt Stock Exhange (FSE), which is available for free. We'll try and analyze the stock prices of a company called Carl Zeiss Meditec, which manufactures tools for eye examinations, as well as medical lasers for laser eye surgery: https://www.zeiss.com/meditec/int/home.html. The company is listed under the stock ticker AFX_X."
   ]
  },
  {
   "cell_type": "markdown",
   "metadata": {},
   "source": [
    "You can find the detailed Quandl API instructions here: https://docs.quandl.com/docs/time-series"
   ]
  },
  {
   "cell_type": "markdown",
   "metadata": {},
   "source": [
    "While there is a dedicated Python package for connecting to the Quandl API, we would prefer that you use the *requests* package, which can be easily downloaded using *pip* or *conda*. You can find the documentation for the package here: http://docs.python-requests.org/en/master/ "
   ]
  },
  {
   "cell_type": "markdown",
   "metadata": {},
   "source": [
    "Finally, apart from the *requests* package, you are encouraged to not use any third party Python packages, such as *pandas*, and instead focus on what's available in the Python Standard Library (the *collections* module might come in handy: https://pymotw.com/3/collections/ ).\n",
    "Also, since you won't have access to DataFrames, you are encouraged to us Python's native data structures - preferably dictionaries, though some questions can also be answered using lists.\n",
    "You can read more on these data structures here: https://docs.python.org/3/tutorial/datastructures.html"
   ]
  },
  {
   "cell_type": "markdown",
   "metadata": {},
   "source": [
    "Keep in mind that the JSON responses you will be getting from the API map almost one-to-one to Python's dictionaries. Unfortunately, they can be very nested, so make sure you read up on indexing dictionaries in the documentation provided above."
   ]
  },
  {
   "cell_type": "code",
   "execution_count": 129,
   "metadata": {},
   "outputs": [],
   "source": [
    "# First, import the relevant modules\n",
    "import requests"
   ]
  },
  {
   "cell_type": "code",
   "execution_count": 130,
   "metadata": {},
   "outputs": [],
   "source": [
    "# Now, call the Quandl API and pull out a small sample of the data (only one day) to get a glimpse\n",
    "# into the JSON structure that will be returned\n",
    "url = 'https://www.quandl.com/api/v3/datasets/FSE/AFX_X.json'\n",
    "params = {'api_key': API_KEY, 'start_date': '2020-01-01', 'end_date': '2020-01-02'}\n",
    "data = requests.get(url, params).json()"
   ]
  },
  {
   "cell_type": "code",
   "execution_count": 131,
   "metadata": {},
   "outputs": [
    {
     "name": "stdout",
     "output_type": "stream",
     "text": [
      "{'dataset': {'id': 10095370, 'dataset_code': 'AFX_X', 'database_code': 'FSE', 'name': 'Carl Zeiss Meditec (AFX_X)', 'description': 'Stock Prices for Carl Zeiss Meditec (2020-08-31) from the Frankfurt Stock Exchange.<br><br>Trading System: Xetra<br><br>ISIN: DE0005313704', 'refreshed_at': '2020-11-13T22:16:17.522Z', 'newest_available_date': '2020-11-06', 'oldest_available_date': '2000-06-07', 'column_names': ['Date', 'Open', 'High', 'Low', 'Close', 'Change', 'Traded Volume', 'Turnover', 'Last Price of the Day', 'Daily Traded Units', 'Daily Turnover'], 'frequency': 'daily', 'type': 'Time Series', 'premium': False, 'limit': None, 'transform': None, 'column_index': None, 'start_date': '2020-01-01', 'end_date': '2020-01-02', 'data': [['2020-01-02', 114.0, 114.9, 112.7, 113.8, None, 143464.0, 16291666.0, None, None, None]], 'collapse': None, 'order': None, 'database_id': 6129}}\n"
     ]
    }
   ],
   "source": [
    "# Inspect the JSON structure of the object you created, and take note of how nested it is,\n",
    "# as well as the overall structure\n",
    "print(data)"
   ]
  },
  {
   "cell_type": "markdown",
   "metadata": {},
   "source": [
    "These are your tasks for this mini project:\n",
    "\n",
    "1. Collect data from the Franfurt Stock Exchange, for the ticker AFX_X, for the whole year 2017 (keep in mind that the date format is YYYY-MM-DD).\n",
    "2. Convert the returned JSON object into a Python dictionary.\n",
    "3. Calculate what the highest and lowest opening prices were for the stock in this period.\n",
    "4. What was the largest change in any one day (based on High and Low price)?\n",
    "5. What was the largest change between any two days (based on Closing Price)?\n",
    "6. What was the average daily trading volume during this year?\n",
    "7. (Optional) What was the median trading volume during this year. (Note: you may need to implement your own function for calculating the median.)"
   ]
  },
  {
   "cell_type": "code",
   "execution_count": 132,
   "metadata": {},
   "outputs": [],
   "source": [
    "#Retrieve Franfurt Stock Exchange data for the ticker AFX_X for year 2017\n",
    "params = {'api_key': API_KEY, 'start_date': '2017-01-01', 'end_date':'2017-12-31'}\n",
    "data = requests.get(url, params).json() #Store data as a dictionary"
   ]
  },
  {
   "cell_type": "code",
   "execution_count": 133,
   "metadata": {},
   "outputs": [
    {
     "name": "stdout",
     "output_type": "stream",
     "text": [
      "The highest and lowest opening price for AFX_X in 2017 was 53.11 and 34.00 respectively.  \n",
      "The largest change in any one day was 2.81.  \n",
      "The largest change between any two days was 19.03.\n",
      "The average trading volume for AFX_X in 2017 is 89124.34.  \n",
      "The median trading volume during year 2017 is 76600.00.\n"
     ]
    }
   ],
   "source": [
    "#initialise variables\n",
    "openings = []\n",
    "largestChange = 0\n",
    "maxClose = minClose = data['dataset']['data'][0][4] #Set arbitrary max and min closing values\n",
    "tradedVolume = []\n",
    "\n",
    "for d in data['dataset']['data']:\n",
    "    openings.append(d[1])\n",
    "    dailyChange = d[2] - d[3] # Daily change (High - low price)\n",
    "    close = d[4]\n",
    "    tradedVolume.append(d[6])\n",
    "    if dailyChange > largestChange:\n",
    "        largestChange = dailyChange #Update daily change\n",
    "    if close < minClose:\n",
    "         minClose = close\n",
    "    elif close > maxClose:\n",
    "        maxClose = close\n",
    "    \n",
    "highestOpening = max([i for i in openings if i is not None]) #Highest opening prices for AFX_X in 2017\n",
    "lowestOpening = min([i for i in openings if i is not None]) #Lowest opening prices for AFX_X in 2017\n",
    "largestTwoDayChange = maxClose - minClose\n",
    "avgTradeVolume = sum(tradedVolume)/len(tradedVolume)\n",
    "medTradeVolume = median(tradedVolume)\n",
    "\n",
    "def median(numList):\n",
    "    sortedList = sorted(numList)\n",
    "    length = len(sortedList)\n",
    "    if (length % 2) == 0:\n",
    "        ind1 = length/2\n",
    "        ind2 = ind1 + 1\n",
    "        median = sortedList[ind2] - sortedList[ind1]\n",
    "    else:\n",
    "        ind = round(length/2)\n",
    "        median = sortedList[ind]\n",
    "    return median\n",
    "\n",
    "print(\"\"\"The highest and lowest opening price for AFX_X in 2017 was %.2f and %.2f respectively.  \n",
    "The largest change in any one day was %.2f.  \n",
    "The largest change between any two days was %.2f.\n",
    "The average trading volume for AFX_X in 2017 is %.2f.  \n",
    "The median trading volume during year 2017 is %.2f.\"\"\" \n",
    "% (highestOpening, lowestOpening, largestChange, largestTwoDayChange, avgTradeVolume, medTradeVolume))"
   ]
  },
  {
   "cell_type": "code",
   "execution_count": null,
   "metadata": {},
   "outputs": [],
   "source": []
  }
 ],
 "metadata": {
  "kernelspec": {
   "display_name": "Python 3",
   "language": "python",
   "name": "python3"
  },
  "language_info": {
   "codemirror_mode": {
    "name": "ipython",
    "version": 3
   },
   "file_extension": ".py",
   "mimetype": "text/x-python",
   "name": "python",
   "nbconvert_exporter": "python",
   "pygments_lexer": "ipython3",
   "version": "3.8.3"
  }
 },
 "nbformat": 4,
 "nbformat_minor": 2
}
